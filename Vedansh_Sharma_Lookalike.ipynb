{
 "cells": [
  {
   "cell_type": "code",
   "execution_count": 8,
   "metadata": {},
   "outputs": [
    {
     "name": "stdout",
     "output_type": "stream",
     "text": [
      "CustomerID            0\n",
      "total_spent           0\n",
      "total_items_bought    0\n",
      "unique_products       0\n",
      "dtype: int64\n",
      "      lookalike_1 lookalike_2 lookalike_3   score_1   score_2   score_3\n",
      "C0001       C0164       C0137       C0069  0.968410  0.962081  0.955071\n",
      "C0002       C0029       C0031       C0094  0.999762  0.999013  0.993555\n",
      "C0003       C0176       C0027       C0010  0.890640  0.863579  0.829717\n",
      "C0004       C0075       C0175       C0195  0.997674  0.994084  0.993556\n",
      "C0005       C0058       C0123       C0015  0.999798  0.999706  0.999689\n"
     ]
    }
   ],
   "source": [
    "import pandas as pd\n",
    "import numpy as np\n",
    "from sklearn.preprocessing import StandardScaler\n",
    "from sklearn.metrics.pairwise import cosine_similarity\n",
    "\n",
    "# File paths\n",
    "data_folder = \"Data\"\n",
    "customers_file = f\"{data_folder}/Customers.csv\"\n",
    "products_file = f\"{data_folder}/Products.csv\"\n",
    "transactions_file = f\"{data_folder}/Transactions.csv\"\n",
    "\n",
    "# Load datasets\n",
    "customers_df = pd.read_csv(customers_file)\n",
    "products_df = pd.read_csv(products_file)\n",
    "transactions_df = pd.read_csv(transactions_file)\n",
    "\n",
    "# Merging customer and transaction data to create customer profiles\n",
    "customer_profile = transactions_df.groupby('CustomerID').agg(\n",
    "    total_spent=('TotalValue', 'sum'),\n",
    "    total_items_bought=('Quantity', 'sum'),\n",
    "    unique_products=('ProductID', pd.Series.nunique)\n",
    ").reset_index()\n",
    "\n",
    "# Check for missing values\n",
    "print(customer_profile.isnull().sum())\n",
    "\n",
    "# Handle missing values (fill with 0 or you can choose other methods like mean, median)\n",
    "customer_profile.fillna(0, inplace=True)\n",
    "\n",
    "# Standardizing the features\n",
    "scaler = StandardScaler()\n",
    "scaled_features = scaler.fit_transform(customer_profile[['total_spent', 'total_items_bought', 'unique_products']])\n",
    "\n",
    "# Calculating cosine similarity\n",
    "similarity_matrix = cosine_similarity(scaled_features)\n",
    "\n",
    "# Create a DataFrame for similarity matrix\n",
    "similarity_df = pd.DataFrame(similarity_matrix, index=customer_profile['CustomerID'], columns=customer_profile['CustomerID'])\n",
    "\n",
    "# Extracting top 3 lookalikes for the first 20 customers (CustomerID: C0001 - C0020)\n",
    "lookalike_recommendations = {}\n",
    "\n",
    "for customer in customer_profile['CustomerID'][:20]:\n",
    "    # Get similarity scores for the current customer\n",
    "    similar_customers = similarity_df[customer].sort_values(ascending=False)[1:4]  # Top 3 excluding self\n",
    "    lookalike_recommendations[customer] = similar_customers.index.tolist() + similar_customers.values.tolist()\n",
    "\n",
    "# Create a DataFrame for the lookalikes\n",
    "lookalike_df = pd.DataFrame.from_dict(lookalike_recommendations, orient='index', columns=['lookalike_1', 'lookalike_2', 'lookalike_3', 'score_1', 'score_2', 'score_3'])\n",
    "\n",
    "# Save the lookalikes to a CSV file\n",
    "lookalike_df.to_csv('Lookalike.csv')\n",
    "\n",
    "# Displaying the first few rows of the recommendations\n",
    "print(lookalike_df.head())\n"
   ]
  },
  {
   "cell_type": "code",
   "execution_count": null,
   "metadata": {},
   "outputs": [],
   "source": []
  }
 ],
 "metadata": {
  "kernelspec": {
   "display_name": "Python 3",
   "language": "python",
   "name": "python3"
  },
  "language_info": {
   "codemirror_mode": {
    "name": "ipython",
    "version": 3
   },
   "file_extension": ".py",
   "mimetype": "text/x-python",
   "name": "python",
   "nbconvert_exporter": "python",
   "pygments_lexer": "ipython3",
   "version": "3.10.12"
  }
 },
 "nbformat": 4,
 "nbformat_minor": 2
}
